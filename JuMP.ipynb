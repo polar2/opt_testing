{
 "cells": [
  {
   "cell_type": "markdown",
   "metadata": {},
   "source": [
    "## Load libraries"
   ]
  },
  {
   "cell_type": "code",
   "execution_count": 1,
   "metadata": {},
   "outputs": [],
   "source": [
    "using Distributions\n",
    "using IterTools\n",
    "using JuMP\n",
    "using GLPK\n",
    "using Random"
   ]
  },
  {
   "cell_type": "markdown",
   "metadata": {},
   "source": [
    "## Define key parameters"
   ]
  },
  {
   "cell_type": "code",
   "execution_count": 2,
   "metadata": {},
   "outputs": [],
   "source": [
    "num_items = 100\n",
    "num_dimensions = 5\n",
    "\n",
    "items = [\"item_$x\" for x in 1:num_items]\n",
    "dimensions = [\"dim_$x\" for x in 1:num_dimensions];"
   ]
  },
  {
   "cell_type": "markdown",
   "metadata": {},
   "source": [
    "## Generate (random) input data"
   ]
  },
  {
   "cell_type": "code",
   "execution_count": 3,
   "metadata": {},
   "outputs": [],
   "source": [
    "normal_dist = Normal(10.0, 1.0)\n",
    "\n",
    "item_value = Dict(zip(items, round.(rand(normal_dist, num_items), digits = 2)))\n",
    "item_space = Dict(zip(product(items, dimensions), round.(rand(normal_dist, num_dimensions, num_items), digits = 2)));"
   ]
  },
  {
   "cell_type": "code",
   "execution_count": 4,
   "metadata": {},
   "outputs": [],
   "source": [
    "knapsack_dist = Normal(5*num_items, 0.5*num_items)\n",
    "\n",
    "knapsack_space = Dict(zip(dimensions, round.(rand(knapsack_dist, num_dimensions), digits = 2)));"
   ]
  },
  {
   "cell_type": "markdown",
   "metadata": {},
   "source": [
    "## Define model via JuMP"
   ]
  },
  {
   "cell_type": "code",
   "execution_count": 5,
   "metadata": {},
   "outputs": [
    {
     "name": "stdout",
     "output_type": "stream",
     "text": [
      "  3.607006 seconds (2.67 M allocations: 140.563 MiB, 1.09% gc time, 99.44% compilation time)\n"
     ]
    }
   ],
   "source": [
    "@time begin\n",
    "    model = Model()\n",
    "    set_optimizer(model, GLPK.Optimizer)\n",
    "    @variable(model, x[items], Bin)\n",
    "    @constraint(model, dimension_constraint[dimension in dimensions], sum(item_space[item, dimension] * x[item] for item in items) <= knapsack_space[dimension])\n",
    "    @objective(model, Max, sum(item_value[item] * x[item] for item in items));\n",
    "end;"
   ]
  },
  {
   "cell_type": "markdown",
   "metadata": {},
   "source": [
    "## Solve the model"
   ]
  },
  {
   "cell_type": "code",
   "execution_count": 6,
   "metadata": {},
   "outputs": [
    {
     "name": "stdout",
     "output_type": "stream",
     "text": [
      "  2.877703 seconds (3.39 M allocations: 185.832 MiB, 1.50% gc time, 99.57% compilation time)\n"
     ]
    }
   ],
   "source": [
    "@time optimize!(model)"
   ]
  },
  {
   "cell_type": "markdown",
   "metadata": {},
   "source": [
    "## Inspect the results"
   ]
  },
  {
   "cell_type": "code",
   "execution_count": 7,
   "metadata": {},
   "outputs": [
    {
     "name": "stdout",
     "output_type": "stream",
     "text": [
      "Carry 46 items of total value 491.32\n",
      "Space used:\n",
      "Dict{Any, Any}(\"dim_3\" => 465.48, \"dim_1\" => 453.23, \"dim_5\" => 451.72, \"dim_4\" => 448.51, \"dim_2\" => 436.14)\n",
      "Space left:\n",
      "Dict{Any, Any}(\"dim_3\" => 43.42, \"dim_1\" => 11.04, \"dim_5\" => 49.4, \"dim_4\" => 65.21, \"dim_2\" => 0.0)\n"
     ]
    }
   ],
   "source": [
    "num_items = sum(1 for item in items if value.(x[item]) > 0.5)\n",
    "total_value = round(sum(item_value[item] for item in items if value.(x[item]) > 0.5), digits = 2)\n",
    "total_space = Dict()\n",
    "space_left = Dict()\n",
    "for dimension in dimensions\n",
    "    total_space[dimension] = round(sum(item_space[item, dimension] for item in items if value.(x[item]) > 0.5), digits = 2)\n",
    "    space_left[dimension] = round(knapsack_space[dimension] - total_space[dimension], digits = 2)\n",
    "end\n",
    "\n",
    "print(\"Carry $num_items items of total value $total_value\")\n",
    "println()\n",
    "println(\"Space used:\")\n",
    "println(total_space)\n",
    "println(\"Space left:\")\n",
    "println(space_left)"
   ]
  },
  {
   "cell_type": "code",
   "execution_count": null,
   "metadata": {},
   "outputs": [],
   "source": []
  }
 ],
 "metadata": {
  "kernelspec": {
   "display_name": "Julia 1.8.4",
   "language": "julia",
   "name": "julia-1.8"
  },
  "language_info": {
   "file_extension": ".jl",
   "mimetype": "application/julia",
   "name": "julia",
   "version": "1.8.4"
  }
 },
 "nbformat": 4,
 "nbformat_minor": 4
}
