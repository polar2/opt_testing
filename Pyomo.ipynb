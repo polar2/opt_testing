{
 "cells": [
  {
   "cell_type": "markdown",
   "metadata": {},
   "source": [
    "## Load libraries"
   ]
  },
  {
   "cell_type": "code",
   "execution_count": 1,
   "metadata": {},
   "outputs": [],
   "source": [
    "from itertools import product\n",
    "import numpy as np\n",
    "import pandas as pd\n",
    "import pyomo.environ as pyo\n",
    "from scipy.stats import norm\n",
    "import time"
   ]
  },
  {
   "cell_type": "markdown",
   "metadata": {},
   "source": [
    "## Define key parameters"
   ]
  },
  {
   "cell_type": "code",
   "execution_count": 2,
   "metadata": {},
   "outputs": [],
   "source": [
    "num_items = 100\n",
    "num_dimensions = 5\n",
    "\n",
    "items = ['item_' + str(x) for x in range(num_items)]\n",
    "dimensions = ['dim_' + str(x) for x in range(num_dimensions)]"
   ]
  },
  {
   "cell_type": "markdown",
   "metadata": {},
   "source": [
    "## Generate (random) input data"
   ]
  },
  {
   "cell_type": "code",
   "execution_count": 3,
   "metadata": {},
   "outputs": [],
   "source": [
    "item_value = {item: norm(loc=10, scale=1).rvs() for item in items}\n",
    "\n",
    "item_space_df = pd.DataFrame(list(product(*[items, dimensions])), columns=['item', 'dimension'])\n",
    "item_space_df['space'] = np.round(norm(loc=10, scale=1).rvs(size=num_items*num_dimensions), 2)\n",
    "item_space = item_space_df.set_index(['item', 'dimension']).to_dict()['space']"
   ]
  },
  {
   "cell_type": "code",
   "execution_count": 4,
   "metadata": {},
   "outputs": [],
   "source": [
    "knapsack_space = {dimension: np.round(norm(loc=5*num_items, scale=0.5*num_items).rvs(),2) for dimension in dimensions}"
   ]
  },
  {
   "cell_type": "markdown",
   "metadata": {},
   "source": [
    "## Define model via pyomo"
   ]
  },
  {
   "cell_type": "code",
   "execution_count": 5,
   "metadata": {},
   "outputs": [],
   "source": [
    "def define_objective(model):\n",
    "    return sum(model.a[item] * model.x[item] for item in model.Items)\n",
    "\n",
    "def define_dimension_constraint(model, dimension):\n",
    "    return sum(model.b[item, dimension] * model.x[item] for item in model.Items) <= model.c[dimension]"
   ]
  },
  {
   "cell_type": "code",
   "execution_count": 6,
   "metadata": {},
   "outputs": [],
   "source": [
    "model = pyo.AbstractModel()"
   ]
  },
  {
   "cell_type": "code",
   "execution_count": 7,
   "metadata": {},
   "outputs": [],
   "source": [
    "model.Items = pyo.Set(initialize=items)\n",
    "model.Dimensions = pyo.Set(initialize=dimensions)"
   ]
  },
  {
   "cell_type": "code",
   "execution_count": 8,
   "metadata": {},
   "outputs": [],
   "source": [
    "model.a = pyo.Param(model.Items, initialize=item_value)\n",
    "model.b = pyo.Param(model.Items, model.Dimensions, initialize=item_space)\n",
    "model.c = pyo.Param(model.Dimensions, initialize=knapsack_space)"
   ]
  },
  {
   "cell_type": "code",
   "execution_count": 9,
   "metadata": {},
   "outputs": [],
   "source": [
    "model.x = pyo.Var(model.Items, within=pyo.Binary)"
   ]
  },
  {
   "cell_type": "code",
   "execution_count": 10,
   "metadata": {},
   "outputs": [],
   "source": [
    "model.obj = pyo.Objective(rule=define_objective, sense=pyo.maximize)"
   ]
  },
  {
   "cell_type": "code",
   "execution_count": 11,
   "metadata": {},
   "outputs": [],
   "source": [
    "model.dimension_constraint = pyo.Constraint(model.Dimensions, rule=define_dimension_constraint)"
   ]
  },
  {
   "cell_type": "code",
   "execution_count": 12,
   "metadata": {},
   "outputs": [
    {
     "name": "stdout",
     "output_type": "stream",
     "text": [
      "Instance creation: 0.020334959030151367 seconds\n"
     ]
    }
   ],
   "source": [
    "start_time = time.time()\n",
    "\n",
    "instance = model.create_instance()\n",
    "\n",
    "print('Instance creation: ' + str(time.time() - start_time) + ' seconds')"
   ]
  },
  {
   "cell_type": "code",
   "execution_count": 13,
   "metadata": {},
   "outputs": [],
   "source": [
    "opt = pyo.SolverFactory('glpk', executable='/Applications/glpk-5.0/examples/glpsol')"
   ]
  },
  {
   "cell_type": "markdown",
   "metadata": {},
   "source": [
    "## Solve the model"
   ]
  },
  {
   "cell_type": "code",
   "execution_count": 14,
   "metadata": {},
   "outputs": [
    {
     "name": "stdout",
     "output_type": "stream",
     "text": [
      "Solver time: 0.2553677558898926 seconds\n"
     ]
    }
   ],
   "source": [
    "solver_start_time = time.time()\n",
    "\n",
    "results = opt.solve(instance, tee=False, keepfiles=False)\n",
    "\n",
    "print('Solver time: ' + str(time.time() - solver_start_time) + ' seconds')"
   ]
  },
  {
   "cell_type": "code",
   "execution_count": 15,
   "metadata": {},
   "outputs": [
    {
     "data": {
      "text/plain": [
       "<TerminationCondition.optimal: 'optimal'>"
      ]
     },
     "execution_count": 15,
     "metadata": {},
     "output_type": "execute_result"
    }
   ],
   "source": [
    "results.solver.termination_condition"
   ]
  },
  {
   "cell_type": "markdown",
   "metadata": {},
   "source": [
    "## Inspect the results"
   ]
  },
  {
   "cell_type": "code",
   "execution_count": 16,
   "metadata": {},
   "outputs": [
    {
     "name": "stdout",
     "output_type": "stream",
     "text": [
      "Carry 44 items of total value 471.6977076418714\n",
      "{'dim_0': 442.47999999999996, 'dim_1': 439.61999999999995, 'dim_2': 421.05, 'dim_3': 439.74, 'dim_4': 429.7800000000001}\n"
     ]
    }
   ],
   "source": [
    "num_items = sum([1 for item in instance.Items if instance.x[item].value > 0.5])\n",
    "total_value = sum([item_value[item] for item in instance.Items if instance.x[item].value > 0.5])\n",
    "total_space = {dimension: sum([item_space[item, dimension]\n",
    "                               for item in instance.Items if instance.x[item].value > 0.5])\n",
    "               for dimension in dimensions}\n",
    "\n",
    "print('Carry ' + str(num_items) + ' items of total value ' + str(total_value))\n",
    "print(total_space)"
   ]
  },
  {
   "cell_type": "code",
   "execution_count": 17,
   "metadata": {},
   "outputs": [
    {
     "name": "stdout",
     "output_type": "stream",
     "text": [
      "{'dim_0': 547.99, 'dim_1': 474.99, 'dim_2': 421.08, 'dim_3': 455.37, 'dim_4': 509.86}\n"
     ]
    }
   ],
   "source": [
    "print(knapsack_space)"
   ]
  },
  {
   "cell_type": "code",
   "execution_count": null,
   "metadata": {},
   "outputs": [],
   "source": []
  }
 ],
 "metadata": {
  "kernelspec": {
   "display_name": "Python 3",
   "language": "python",
   "name": "python3"
  },
  "language_info": {
   "codemirror_mode": {
    "name": "ipython",
    "version": 3
   },
   "file_extension": ".py",
   "mimetype": "text/x-python",
   "name": "python",
   "nbconvert_exporter": "python",
   "pygments_lexer": "ipython3",
   "version": "3.9.0"
  }
 },
 "nbformat": 4,
 "nbformat_minor": 4
}
